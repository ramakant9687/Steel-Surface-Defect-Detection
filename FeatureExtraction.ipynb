{
 "cells": [
  {
   "cell_type": "code",
   "execution_count": 2,
   "metadata": {},
   "outputs": [
    {
     "name": "stdout",
     "output_type": "stream",
     "text": [
      "done\n"
     ]
    }
   ],
   "source": [
    "import numpy as np\n",
    "import cv2\n",
    "import os\n",
    "from skimage.feature import greycomatrix,greycoprops\n",
    "import pandas as pd\n",
    "INPUT_SCAN_FOLDER='C:\\\\Users\\\\thaqu\\\\Desktop\\\\MTech Project Machine Learning\\\\NEU-DET\\\\NEU surface defect database\\\\' # path where the dataset is stored\n",
    "\n",
    "slices=[]\n",
    "for dirName, subdirList, fileList in os.walk(INPUT_SCAN_FOLDER):\n",
    "        for filename in fileList:\n",
    "            if \".bmp\" in filename.lower():\n",
    "                slices.append(cv2.imread(os.path.join(dirName, filename),0))\n",
    "\n",
    "print(\"done\")"
   ]
  },
  {
   "cell_type": "code",
   "execution_count": 7,
   "metadata": {},
   "outputs": [],
   "source": [
    "proList = ['contrast', 'dissimilarity', 'homogeneity', 'ASM', 'energy']\n",
    "featlist= ['contrast', 'dissimilarity', 'homogeneity', 'ASM', 'energy','Label']\n",
    "properties =np.zeros(5)\n",
    "glcmMatrix = []\n",
    "final=[]\n",
    "for i in range(len(slices)):\n",
    "    img = slices[i]\n",
    "\n",
    "    # pyplot.imshow((images[k,:,:]),cmap='gray')\n",
    "    # pyplot.show()\n",
    "    #  get properties\n",
    "    glcmMatrix=(greycomatrix(img, [1], [0], levels=256))\n",
    "\n",
    "   # print(len(glcmMatrix))\n",
    "    # get properties\n",
    "    for j in range(0, len(proList)):\n",
    "        properties[j]=(greycoprops(glcmMatrix, prop=proList[j]))\n",
    "\n",
    "    label=(i/300)\n",
    "    features = np.array([properties[0],properties[1],properties[2],properties[3],properties[4],np.floor(label)])\n",
    "    final.append(features)\n",
    "\n",
    "df = pd.DataFrame(final,columns=featlist)"
   ]
  },
  {
   "cell_type": "code",
   "execution_count": 6,
   "metadata": {},
   "outputs": [],
   "source": [
    "filepath=\"C:\\\\Users\\\\thaqu\\\\Desktop\\\\MTech Project Machine Learning\\\\Neu knn\"+\"features.xlsx\"  #path where to save the features\n",
    "df.to_excel(filepath)"
   ]
  },
  {
   "cell_type": "code",
   "execution_count": 8,
   "metadata": {},
   "outputs": [
    {
     "data": {
      "text/html": [
       "<div>\n",
       "<style scoped>\n",
       "    .dataframe tbody tr th:only-of-type {\n",
       "        vertical-align: middle;\n",
       "    }\n",
       "\n",
       "    .dataframe tbody tr th {\n",
       "        vertical-align: top;\n",
       "    }\n",
       "\n",
       "    .dataframe thead th {\n",
       "        text-align: right;\n",
       "    }\n",
       "</style>\n",
       "<table border=\"1\" class=\"dataframe\">\n",
       "  <thead>\n",
       "    <tr style=\"text-align: right;\">\n",
       "      <th></th>\n",
       "      <th>contrast</th>\n",
       "      <th>dissimilarity</th>\n",
       "      <th>homogeneity</th>\n",
       "      <th>ASM</th>\n",
       "      <th>energy</th>\n",
       "      <th>Label</th>\n",
       "    </tr>\n",
       "  </thead>\n",
       "  <tbody>\n",
       "    <tr>\n",
       "      <th>0</th>\n",
       "      <td>320.838116</td>\n",
       "      <td>14.130477</td>\n",
       "      <td>0.069042</td>\n",
       "      <td>0.000197</td>\n",
       "      <td>0.014052</td>\n",
       "      <td>0.0</td>\n",
       "    </tr>\n",
       "    <tr>\n",
       "      <th>1</th>\n",
       "      <td>240.708618</td>\n",
       "      <td>12.119623</td>\n",
       "      <td>0.083115</td>\n",
       "      <td>0.000182</td>\n",
       "      <td>0.013508</td>\n",
       "      <td>0.0</td>\n",
       "    </tr>\n",
       "    <tr>\n",
       "      <th>2</th>\n",
       "      <td>274.596633</td>\n",
       "      <td>12.992412</td>\n",
       "      <td>0.077501</td>\n",
       "      <td>0.000213</td>\n",
       "      <td>0.014600</td>\n",
       "      <td>0.0</td>\n",
       "    </tr>\n",
       "    <tr>\n",
       "      <th>3</th>\n",
       "      <td>313.191231</td>\n",
       "      <td>13.981332</td>\n",
       "      <td>0.069765</td>\n",
       "      <td>0.000235</td>\n",
       "      <td>0.015342</td>\n",
       "      <td>0.0</td>\n",
       "    </tr>\n",
       "    <tr>\n",
       "      <th>4</th>\n",
       "      <td>152.986181</td>\n",
       "      <td>9.431005</td>\n",
       "      <td>0.107868</td>\n",
       "      <td>0.000235</td>\n",
       "      <td>0.015315</td>\n",
       "      <td>0.0</td>\n",
       "    </tr>\n",
       "  </tbody>\n",
       "</table>\n",
       "</div>"
      ],
      "text/plain": [
       "     contrast  dissimilarity  homogeneity       ASM    energy  Label\n",
       "0  320.838116      14.130477     0.069042  0.000197  0.014052    0.0\n",
       "1  240.708618      12.119623     0.083115  0.000182  0.013508    0.0\n",
       "2  274.596633      12.992412     0.077501  0.000213  0.014600    0.0\n",
       "3  313.191231      13.981332     0.069765  0.000235  0.015342    0.0\n",
       "4  152.986181       9.431005     0.107868  0.000235  0.015315    0.0"
      ]
     },
     "execution_count": 8,
     "metadata": {},
     "output_type": "execute_result"
    }
   ],
   "source": [
    "df.head()"
   ]
  },
  {
   "cell_type": "code",
   "execution_count": 11,
   "metadata": {},
   "outputs": [
    {
     "data": {
      "text/plain": [
       "(1800, 6)"
      ]
     },
     "execution_count": 11,
     "metadata": {},
     "output_type": "execute_result"
    }
   ],
   "source": [
    "df.shape"
   ]
  },
  {
   "cell_type": "code",
   "execution_count": 12,
   "metadata": {},
   "outputs": [
    {
     "name": "stdout",
     "output_type": "stream",
     "text": [
      "<class 'pandas.core.frame.DataFrame'>\n",
      "RangeIndex: 1800 entries, 0 to 1799\n",
      "Data columns (total 6 columns):\n",
      "contrast         1800 non-null float64\n",
      "dissimilarity    1800 non-null float64\n",
      "homogeneity      1800 non-null float64\n",
      "ASM              1800 non-null float64\n",
      "energy           1800 non-null float64\n",
      "Label            1800 non-null float64\n",
      "dtypes: float64(6)\n",
      "memory usage: 84.5 KB\n"
     ]
    }
   ],
   "source": [
    "df.info()"
   ]
  },
  {
   "cell_type": "code",
   "execution_count": 13,
   "metadata": {},
   "outputs": [
    {
     "data": {
      "text/html": [
       "<div>\n",
       "<style scoped>\n",
       "    .dataframe tbody tr th:only-of-type {\n",
       "        vertical-align: middle;\n",
       "    }\n",
       "\n",
       "    .dataframe tbody tr th {\n",
       "        vertical-align: top;\n",
       "    }\n",
       "\n",
       "    .dataframe thead th {\n",
       "        text-align: right;\n",
       "    }\n",
       "</style>\n",
       "<table border=\"1\" class=\"dataframe\">\n",
       "  <thead>\n",
       "    <tr style=\"text-align: right;\">\n",
       "      <th></th>\n",
       "      <th>contrast</th>\n",
       "      <th>dissimilarity</th>\n",
       "      <th>homogeneity</th>\n",
       "      <th>ASM</th>\n",
       "      <th>energy</th>\n",
       "      <th>Label</th>\n",
       "    </tr>\n",
       "  </thead>\n",
       "  <tbody>\n",
       "    <tr>\n",
       "      <th>count</th>\n",
       "      <td>1800.000000</td>\n",
       "      <td>1800.000000</td>\n",
       "      <td>1800.000000</td>\n",
       "      <td>1800.000000</td>\n",
       "      <td>1800.000000</td>\n",
       "      <td>1800.0000</td>\n",
       "    </tr>\n",
       "    <tr>\n",
       "      <th>mean</th>\n",
       "      <td>115.180411</td>\n",
       "      <td>6.814885</td>\n",
       "      <td>0.220165</td>\n",
       "      <td>0.004165</td>\n",
       "      <td>0.044142</td>\n",
       "      <td>2.5000</td>\n",
       "    </tr>\n",
       "    <tr>\n",
       "      <th>std</th>\n",
       "      <td>121.106244</td>\n",
       "      <td>4.362020</td>\n",
       "      <td>0.118689</td>\n",
       "      <td>0.015573</td>\n",
       "      <td>0.047088</td>\n",
       "      <td>1.7083</td>\n",
       "    </tr>\n",
       "    <tr>\n",
       "      <th>min</th>\n",
       "      <td>2.513065</td>\n",
       "      <td>1.185477</td>\n",
       "      <td>0.061730</td>\n",
       "      <td>0.000136</td>\n",
       "      <td>0.011657</td>\n",
       "      <td>0.0000</td>\n",
       "    </tr>\n",
       "    <tr>\n",
       "      <th>25%</th>\n",
       "      <td>18.001866</td>\n",
       "      <td>2.906734</td>\n",
       "      <td>0.114512</td>\n",
       "      <td>0.000394</td>\n",
       "      <td>0.019856</td>\n",
       "      <td>1.0000</td>\n",
       "    </tr>\n",
       "    <tr>\n",
       "      <th>50%</th>\n",
       "      <td>58.298518</td>\n",
       "      <td>5.589937</td>\n",
       "      <td>0.187308</td>\n",
       "      <td>0.000978</td>\n",
       "      <td>0.031277</td>\n",
       "      <td>2.5000</td>\n",
       "    </tr>\n",
       "    <tr>\n",
       "      <th>75%</th>\n",
       "      <td>198.853229</td>\n",
       "      <td>10.523015</td>\n",
       "      <td>0.324831</td>\n",
       "      <td>0.002695</td>\n",
       "      <td>0.051911</td>\n",
       "      <td>4.0000</td>\n",
       "    </tr>\n",
       "    <tr>\n",
       "      <th>max</th>\n",
       "      <td>432.505050</td>\n",
       "      <td>16.436005</td>\n",
       "      <td>0.536568</td>\n",
       "      <td>0.219543</td>\n",
       "      <td>0.468555</td>\n",
       "      <td>5.0000</td>\n",
       "    </tr>\n",
       "  </tbody>\n",
       "</table>\n",
       "</div>"
      ],
      "text/plain": [
       "          contrast  dissimilarity  homogeneity          ASM       energy  \\\n",
       "count  1800.000000    1800.000000  1800.000000  1800.000000  1800.000000   \n",
       "mean    115.180411       6.814885     0.220165     0.004165     0.044142   \n",
       "std     121.106244       4.362020     0.118689     0.015573     0.047088   \n",
       "min       2.513065       1.185477     0.061730     0.000136     0.011657   \n",
       "25%      18.001866       2.906734     0.114512     0.000394     0.019856   \n",
       "50%      58.298518       5.589937     0.187308     0.000978     0.031277   \n",
       "75%     198.853229      10.523015     0.324831     0.002695     0.051911   \n",
       "max     432.505050      16.436005     0.536568     0.219543     0.468555   \n",
       "\n",
       "           Label  \n",
       "count  1800.0000  \n",
       "mean      2.5000  \n",
       "std       1.7083  \n",
       "min       0.0000  \n",
       "25%       1.0000  \n",
       "50%       2.5000  \n",
       "75%       4.0000  \n",
       "max       5.0000  "
      ]
     },
     "execution_count": 13,
     "metadata": {},
     "output_type": "execute_result"
    }
   ],
   "source": [
    "df.describe()"
   ]
  },
  {
   "cell_type": "code",
   "execution_count": 16,
   "metadata": {},
   "outputs": [
    {
     "data": {
      "text/plain": [
       "array([0., 1., 2., 3., 4., 5.])"
      ]
     },
     "execution_count": 16,
     "metadata": {},
     "output_type": "execute_result"
    }
   ],
   "source": [
    "df.Label.unique()"
   ]
  },
  {
   "cell_type": "code",
   "execution_count": 17,
   "metadata": {},
   "outputs": [
    {
     "data": {
      "text/plain": [
       "5.0    300\n",
       "4.0    300\n",
       "3.0    300\n",
       "2.0    300\n",
       "1.0    300\n",
       "0.0    300\n",
       "Name: Label, dtype: int64"
      ]
     },
     "execution_count": 17,
     "metadata": {},
     "output_type": "execute_result"
    }
   ],
   "source": [
    "df.Label.value_counts()"
   ]
  },
  {
   "cell_type": "code",
   "execution_count": null,
   "metadata": {},
   "outputs": [],
   "source": []
  }
 ],
 "metadata": {
  "kernelspec": {
   "display_name": "Python 3",
   "language": "python",
   "name": "python3"
  },
  "language_info": {
   "codemirror_mode": {
    "name": "ipython",
    "version": 3
   },
   "file_extension": ".py",
   "mimetype": "text/x-python",
   "name": "python",
   "nbconvert_exporter": "python",
   "pygments_lexer": "ipython3",
   "version": "3.7.3"
  }
 },
 "nbformat": 4,
 "nbformat_minor": 2
}
