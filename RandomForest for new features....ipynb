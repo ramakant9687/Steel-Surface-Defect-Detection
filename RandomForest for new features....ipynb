{
 "cells": [
  {
   "cell_type": "code",
   "execution_count": 51,
   "metadata": {},
   "outputs": [],
   "source": [
    "import numpy as np\n",
    "from sklearn.model_selection import train_test_split\n",
    "\n",
    "import pandas as pd\n",
    "from sklearn.metrics import accuracy_score\n",
    "from sklearn.neighbors import KNeighborsClassifier\n",
    "path='features.xlsx'  #give path where extracted features are saved"
   ]
  },
  {
   "cell_type": "code",
   "execution_count": 52,
   "metadata": {},
   "outputs": [],
   "source": [
    "abc=pd.read_excel(path,header=None)"
   ]
  },
  {
   "cell_type": "code",
   "execution_count": 53,
   "metadata": {},
   "outputs": [
    {
     "name": "stderr",
     "output_type": "stream",
     "text": [
      "C:\\Users\\thaqu\\Anaconda3\\lib\\site-packages\\ipykernel_launcher.py:2: FutureWarning: Method .as_matrix will be removed in a future version. Use .values instead.\n",
      "  \n"
     ]
    }
   ],
   "source": [
    "#splitting independent variables from the dependent variable in both training and testing...\n",
    "X=np.array((abc.as_matrix())[1:,1:])\n",
    "Y=X[:,5]\n",
    "X=X[:,0:5]\n",
    "X_train, X_test, y_train, y_test = train_test_split(X,Y,test_size=0.2,random_state=10)\n",
    "y_train = y_train.astype('int')\n",
    "y_test = y_test.astype('int')"
   ]
  },
  {
   "cell_type": "code",
   "execution_count": 54,
   "metadata": {},
   "outputs": [],
   "source": [
    "import pandas as pd\n",
    "import sklearn\n",
    "from sklearn.model_selection import StratifiedKFold\n",
    "from sklearn.ensemble import RandomForestClassifier\n",
    "from sklearn.model_selection import GridSearchCV\n",
    "from sklearn.cluster import KMeans\n"
   ]
  },
  {
   "cell_type": "code",
   "execution_count": 55,
   "metadata": {},
   "outputs": [],
   "source": [
    "#splitting data for training and valildatio datasets....\n",
    "X_vtrain,X_vtest,y_vtrain,y_vtest=train_test_split(X_train,y_train,test_size=0.3,random_state=2)"
   ]
  },
  {
   "cell_type": "code",
   "execution_count": 56,
   "metadata": {},
   "outputs": [],
   "source": [
    "#Using RandomForest....."
   ]
  },
  {
   "cell_type": "code",
   "execution_count": 57,
   "metadata": {},
   "outputs": [],
   "source": [
    "rf=RandomForestClassifier()"
   ]
  },
  {
   "cell_type": "code",
   "execution_count": 58,
   "metadata": {},
   "outputs": [
    {
     "name": "stderr",
     "output_type": "stream",
     "text": [
      "C:\\Users\\thaqu\\Anaconda3\\lib\\site-packages\\sklearn\\ensemble\\forest.py:245: FutureWarning: The default value of n_estimators will change from 10 in version 0.20 to 100 in 0.22.\n",
      "  \"10 in version 0.20 to 100 in 0.22.\", FutureWarning)\n"
     ]
    },
    {
     "data": {
      "text/plain": [
       "RandomForestClassifier(bootstrap=True, class_weight=None, criterion='gini',\n",
       "                       max_depth=None, max_features='auto', max_leaf_nodes=None,\n",
       "                       min_impurity_decrease=0.0, min_impurity_split=None,\n",
       "                       min_samples_leaf=1, min_samples_split=2,\n",
       "                       min_weight_fraction_leaf=0.0, n_estimators=10,\n",
       "                       n_jobs=None, oob_score=False, random_state=None,\n",
       "                       verbose=0, warm_start=False)"
      ]
     },
     "execution_count": 58,
     "metadata": {},
     "output_type": "execute_result"
    }
   ],
   "source": [
    "rf.fit(X_vtrain,y_vtrain)"
   ]
  },
  {
   "cell_type": "code",
   "execution_count": 59,
   "metadata": {},
   "outputs": [],
   "source": [
    "y_tpred=rf.predict(X_vtrain)\n",
    "y_vpred=rf.predict(X_vtest)\n",
    "y_testpred=rf.predict(X_test)\n"
   ]
  },
  {
   "cell_type": "code",
   "execution_count": 60,
   "metadata": {},
   "outputs": [
    {
     "name": "stdout",
     "output_type": "stream",
     "text": [
      "Training Matrices.....\n",
      "              precision    recall  f1-score   support\n",
      "\n",
      "           0       1.00      1.00      1.00       178\n",
      "           1       0.99      1.00      1.00       181\n",
      "           2       1.00      1.00      1.00       164\n",
      "           3       1.00      1.00      1.00       162\n",
      "           4       1.00      1.00      1.00       166\n",
      "           5       1.00      0.99      1.00       157\n",
      "\n",
      "    accuracy                           1.00      1008\n",
      "   macro avg       1.00      1.00      1.00      1008\n",
      "weighted avg       1.00      1.00      1.00      1008\n",
      "\n",
      "\n",
      "Validation Test Matrices.........\n",
      "              precision    recall  f1-score   support\n",
      "\n",
      "           0       0.92      0.92      0.92        65\n",
      "           1       0.73      1.00      0.85        66\n",
      "           2       0.82      0.85      0.83        68\n",
      "           3       0.95      0.75      0.84        76\n",
      "           4       0.88      0.96      0.92        81\n",
      "           5       1.00      0.75      0.86        76\n",
      "\n",
      "    accuracy                           0.87       432\n",
      "   macro avg       0.88      0.87      0.87       432\n",
      "weighted avg       0.89      0.87      0.87       432\n",
      "\n",
      "\n",
      "Test Matrices........\n",
      "              precision    recall  f1-score   support\n",
      "\n",
      "           0       0.92      0.96      0.94        57\n",
      "           1       0.72      0.96      0.82        53\n",
      "           2       0.97      0.91      0.94        68\n",
      "           3       0.89      0.76      0.82        62\n",
      "           4       0.95      1.00      0.97        53\n",
      "           5       0.96      0.81      0.88        67\n",
      "\n",
      "    accuracy                           0.89       360\n",
      "   macro avg       0.90      0.90      0.90       360\n",
      "weighted avg       0.91      0.89      0.89       360\n",
      "\n"
     ]
    }
   ],
   "source": [
    "from sklearn.metrics import classification_report,accuracy_score,confusion_matrix\n",
    "print(\"Training Matrices.....\")\n",
    "print(classification_report(y_vtrain,y_tpred))\n",
    "\n",
    "print()\n",
    "print(\"Validation Test Matrices.........\")\n",
    "print(classification_report(y_vtest,y_vpred))\n",
    "\n",
    "\n",
    "print()\n",
    "print(\"Test Matrices........\")\n",
    "print(classification_report(y_test,y_testpred))\n"
   ]
  },
  {
   "cell_type": "code",
   "execution_count": 62,
   "metadata": {},
   "outputs": [
    {
     "name": "stderr",
     "output_type": "stream",
     "text": [
      "C:\\Users\\thaqu\\Anaconda3\\lib\\site-packages\\sklearn\\model_selection\\_split.py:1978: FutureWarning: The default value of cv will change from 3 to 5 in version 0.22. Specify it explicitly to silence this warning.\n",
      "  warnings.warn(CV_WARNING, FutureWarning)\n"
     ]
    }
   ],
   "source": [
    "#Using GridSearch for Hyperparameter Tuning.....\n",
    "\n",
    "clf=GridSearchCV(rf,param_grid={'n_estimators':[10,100,200],'min_samples_leaf':[2,3]})\n",
    "model=clf.fit(X_vtrain,y_vtrain)\n",
    "\n",
    "y_tpred=model.predict(X_vtrain)\n",
    "y_vpred=model.predict(X_vtest)\n",
    "y_testpred=model.predict(X_test)"
   ]
  },
  {
   "cell_type": "code",
   "execution_count": 63,
   "metadata": {},
   "outputs": [
    {
     "name": "stdout",
     "output_type": "stream",
     "text": [
      "Training Matrices.....\n",
      "              precision    recall  f1-score   support\n",
      "\n",
      "           0       0.98      0.99      0.99       178\n",
      "           1       0.97      0.98      0.97       181\n",
      "           2       0.99      0.96      0.98       164\n",
      "           3       0.98      0.97      0.97       162\n",
      "           4       0.98      1.00      0.99       166\n",
      "           5       0.97      0.97      0.97       157\n",
      "\n",
      "    accuracy                           0.98      1008\n",
      "   macro avg       0.98      0.98      0.98      1008\n",
      "weighted avg       0.98      0.98      0.98      1008\n",
      "\n",
      "\n",
      "Validation Test Matrices.........\n",
      "              precision    recall  f1-score   support\n",
      "\n",
      "           0       0.94      1.00      0.97        65\n",
      "           1       0.77      0.97      0.86        66\n",
      "           2       0.95      0.84      0.89        68\n",
      "           3       0.94      0.79      0.86        76\n",
      "           4       0.88      0.99      0.93        81\n",
      "           5       0.95      0.82      0.88        76\n",
      "\n",
      "    accuracy                           0.90       432\n",
      "   macro avg       0.91      0.90      0.90       432\n",
      "weighted avg       0.91      0.90      0.90       432\n",
      "\n",
      "\n",
      "Test Matrices........\n",
      "              precision    recall  f1-score   support\n",
      "\n",
      "           0       0.92      0.96      0.94        57\n",
      "           1       0.76      0.96      0.85        53\n",
      "           2       0.98      0.91      0.95        68\n",
      "           3       0.90      0.74      0.81        62\n",
      "           4       0.93      1.00      0.96        53\n",
      "           5       0.95      0.88      0.91        67\n",
      "\n",
      "    accuracy                           0.91       360\n",
      "   macro avg       0.91      0.91      0.90       360\n",
      "weighted avg       0.91      0.91      0.91       360\n",
      "\n"
     ]
    }
   ],
   "source": [
    "print(\"Training Matrices.....\")\n",
    "print(classification_report(y_vtrain,y_tpred))\n",
    "\n",
    "print()\n",
    "print(\"Validation Test Matrices.........\")\n",
    "print(classification_report(y_vtest,y_vpred))\n",
    "\n",
    "\n",
    "print()\n",
    "print(\"Test Matrices........\")\n",
    "print(classification_report(y_test,y_testpred))"
   ]
  },
  {
   "cell_type": "code",
   "execution_count": null,
   "metadata": {},
   "outputs": [],
   "source": []
  },
  {
   "cell_type": "code",
   "execution_count": 46,
   "metadata": {},
   "outputs": [],
   "source": []
  },
  {
   "cell_type": "code",
   "execution_count": null,
   "metadata": {},
   "outputs": [],
   "source": []
  },
  {
   "cell_type": "code",
   "execution_count": null,
   "metadata": {},
   "outputs": [],
   "source": []
  }
 ],
 "metadata": {
  "kernelspec": {
   "display_name": "Python 3",
   "language": "python",
   "name": "python3"
  },
  "language_info": {
   "codemirror_mode": {
    "name": "ipython",
    "version": 3
   },
   "file_extension": ".py",
   "mimetype": "text/x-python",
   "name": "python",
   "nbconvert_exporter": "python",
   "pygments_lexer": "ipython3",
   "version": "3.7.3"
  }
 },
 "nbformat": 4,
 "nbformat_minor": 2
}
