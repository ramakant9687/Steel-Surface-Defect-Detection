{
 "cells": [
  {
   "cell_type": "code",
   "execution_count": 1,
   "metadata": {},
   "outputs": [],
   "source": [
    "import numpy as np\n",
    "from sklearn.model_selection import train_test_split\n",
    "\n",
    "import pandas as pd\n",
    "from sklearn.metrics import accuracy_score\n",
    "from sklearn.neighbors import KNeighborsClassifier\n",
    "path='features.xlsx'  #give path where extracted features are saved"
   ]
  },
  {
   "cell_type": "code",
   "execution_count": 9,
   "metadata": {},
   "outputs": [
    {
     "data": {
      "text/html": [
       "<div>\n",
       "<style scoped>\n",
       "    .dataframe tbody tr th:only-of-type {\n",
       "        vertical-align: middle;\n",
       "    }\n",
       "\n",
       "    .dataframe tbody tr th {\n",
       "        vertical-align: top;\n",
       "    }\n",
       "\n",
       "    .dataframe thead th {\n",
       "        text-align: right;\n",
       "    }\n",
       "</style>\n",
       "<table border=\"1\" class=\"dataframe\">\n",
       "  <thead>\n",
       "    <tr style=\"text-align: right;\">\n",
       "      <th></th>\n",
       "      <th>0</th>\n",
       "      <th>1</th>\n",
       "      <th>2</th>\n",
       "      <th>3</th>\n",
       "      <th>4</th>\n",
       "      <th>5</th>\n",
       "      <th>6</th>\n",
       "    </tr>\n",
       "  </thead>\n",
       "  <tbody>\n",
       "    <tr>\n",
       "      <th>0</th>\n",
       "      <td>NaN</td>\n",
       "      <td>contrast</td>\n",
       "      <td>dissimilarity</td>\n",
       "      <td>homogeneity</td>\n",
       "      <td>ASM</td>\n",
       "      <td>energy</td>\n",
       "      <td>Label</td>\n",
       "    </tr>\n",
       "    <tr>\n",
       "      <th>1</th>\n",
       "      <td>0.0</td>\n",
       "      <td>12769357</td>\n",
       "      <td>562393</td>\n",
       "      <td>2747.88</td>\n",
       "      <td>312782</td>\n",
       "      <td>559.269</td>\n",
       "      <td>0</td>\n",
       "    </tr>\n",
       "    <tr>\n",
       "      <th>2</th>\n",
       "      <td>1.0</td>\n",
       "      <td>9580203</td>\n",
       "      <td>482361</td>\n",
       "      <td>3308</td>\n",
       "      <td>289038</td>\n",
       "      <td>537.623</td>\n",
       "      <td>0</td>\n",
       "    </tr>\n",
       "    <tr>\n",
       "      <th>3</th>\n",
       "      <td>2.0</td>\n",
       "      <td>10928946</td>\n",
       "      <td>517098</td>\n",
       "      <td>3084.55</td>\n",
       "      <td>337650</td>\n",
       "      <td>581.077</td>\n",
       "      <td>0</td>\n",
       "    </tr>\n",
       "    <tr>\n",
       "      <th>4</th>\n",
       "      <td>3.0</td>\n",
       "      <td>12465011</td>\n",
       "      <td>556457</td>\n",
       "      <td>2776.65</td>\n",
       "      <td>372854</td>\n",
       "      <td>610.618</td>\n",
       "      <td>0</td>\n",
       "    </tr>\n",
       "  </tbody>\n",
       "</table>\n",
       "</div>"
      ],
      "text/plain": [
       "     0         1              2            3       4        5      6\n",
       "0  NaN  contrast  dissimilarity  homogeneity     ASM   energy  Label\n",
       "1  0.0  12769357         562393      2747.88  312782  559.269      0\n",
       "2  1.0   9580203         482361         3308  289038  537.623      0\n",
       "3  2.0  10928946         517098      3084.55  337650  581.077      0\n",
       "4  3.0  12465011         556457      2776.65  372854  610.618      0"
      ]
     },
     "execution_count": 9,
     "metadata": {},
     "output_type": "execute_result"
    }
   ],
   "source": [
    "abc=pd.read_excel(path,header=None)\n",
    "abc.head()\n"
   ]
  },
  {
   "cell_type": "code",
   "execution_count": 3,
   "metadata": {},
   "outputs": [
    {
     "name": "stderr",
     "output_type": "stream",
     "text": [
      "C:\\Users\\thaqu\\Anaconda3\\lib\\site-packages\\ipykernel_launcher.py:1: FutureWarning: Method .as_matrix will be removed in a future version. Use .values instead.\n",
      "  \"\"\"Entry point for launching an IPython kernel.\n"
     ]
    }
   ],
   "source": [
    "X=np.array((abc.as_matrix())[1:,1:])\n",
    "Y=X[:,5]\n",
    "X=X[:,0:5]\n",
    "X_train, X_test, y_train, y_test = train_test_split(X,Y,test_size=0.2,random_state=10)\n",
    "y_train = y_train.astype('int')\n",
    "y_test = y_test.astype('int')\n",
    "# model=KNeighborsClassifier()"
   ]
  },
  {
   "cell_type": "code",
   "execution_count": 4,
   "metadata": {},
   "outputs": [
    {
     "name": "stdout",
     "output_type": "stream",
     "text": [
      "KNN testing accuracy= 75.27777777777777\n"
     ]
    }
   ],
   "source": [
    "\n",
    "K_value = 3\n",
    "neigh = KNeighborsClassifier(n_neighbors=K_value, weights='uniform', algorithm='auto')\n",
    "neigh.fit(X_train, y_train)\n",
    "testt=neigh.predict(X_test)\n",
    "scoree=accuracy_score(y_test, testt)\n",
    "print(\"KNN testing accuracy=\",scoree*100)\n"
   ]
  },
  {
   "cell_type": "code",
   "execution_count": 5,
   "metadata": {},
   "outputs": [],
   "source": [
    "from sklearn.metrics import classification_report,accuracy_score,confusion_matrix"
   ]
  },
  {
   "cell_type": "code",
   "execution_count": 6,
   "metadata": {},
   "outputs": [
    {
     "name": "stdout",
     "output_type": "stream",
     "text": [
      "Accuracy:  0.7527777777777778\n",
      "##################################################\n",
      "\n",
      "Classification Report: \n",
      "\n",
      "              precision    recall  f1-score   support\n",
      "\n",
      "           0       0.69      0.91      0.79        57\n",
      "           1       0.66      0.91      0.76        53\n",
      "           2       0.83      0.65      0.73        68\n",
      "           3       0.80      0.58      0.67        62\n",
      "           4       0.83      0.92      0.88        53\n",
      "           5       0.76      0.63      0.69        67\n",
      "\n",
      "    accuracy                           0.75       360\n",
      "   macro avg       0.76      0.77      0.75       360\n",
      "weighted avg       0.77      0.75      0.75       360\n",
      "\n"
     ]
    }
   ],
   "source": [
    "\n",
    "print(\"Accuracy: \",accuracy_score(y_test,testt))\n",
    "print(\"#\"*50)\n",
    "\n",
    "print()\n",
    "\n",
    "print(\"Classification Report: \")\n",
    "print()\n",
    "print(classification_report(y_test,testt))"
   ]
  },
  {
   "cell_type": "code",
   "execution_count": 8,
   "metadata": {},
   "outputs": [
    {
     "name": "stdout",
     "output_type": "stream",
     "text": [
      "[[52  0  3  2  0  0]\n",
      " [ 0 48  0  1  0  4]\n",
      " [18  0 44  3  3  0]\n",
      " [ 4  5  4 36  5  8]\n",
      " [ 1  0  1  1 49  1]\n",
      " [ 0 20  1  2  2 42]]\n"
     ]
    }
   ],
   "source": [
    "cm=confusion_matrix(y_test,testt)\n",
    "print(cm)"
   ]
  },
  {
   "cell_type": "code",
   "execution_count": 13,
   "metadata": {},
   "outputs": [
    {
     "data": {
      "text/plain": [
       "Text(0.5, 257.44, 'Predicted label')"
      ]
     },
     "execution_count": 13,
     "metadata": {},
     "output_type": "execute_result"
    },
    {
     "data": {
      "image/png": "[encoded data removed]",
      "text/plain": [
       "<Figure size 432x288 with 2 Axes>"
      ]
     },
     "metadata": {
      "needs_background": "light"
     },
     "output_type": "display_data"
    }
   ],
   "source": [
    "import matplotlib.pyplot as plt\n",
    "import seaborn as sns\n",
    "class_names=[0,1,2,3,4,5]\n",
    "fig, ax = plt.subplots()\n",
    "tick_marks = np.arange(len(class_names))\n",
    "plt.xticks(tick_marks, class_names)\n",
    "plt.yticks(tick_marks, class_names)\n",
    "sns.heatmap(pd.DataFrame(cm), annot=True, cmap=\"coolwarm\" ,fmt='g')\n",
    "ax.xaxis.set_label_position(\"top\")\n",
    "plt.tight_layout()\n",
    "plt.title('Confusion matrix', y=1.1)\n",
    "plt.ylabel('Actual label')\n",
    "plt.xlabel('Predicted label')"
   ]
  },
  {
   "cell_type": "code",
   "execution_count": null,
   "metadata": {},
   "outputs": [],
   "source": []
  }
 ],
 "metadata": {
  "kernelspec": {
   "display_name": "Python 3",
   "language": "python",
   "name": "python3"
  },
  "language_info": {
   "codemirror_mode": {
    "name": "ipython",
    "version": 3
   },
   "file_extension": ".py",
   "mimetype": "text/x-python",
   "name": "python",
   "nbconvert_exporter": "python",
   "pygments_lexer": "ipython3",
   "version": "3.7.3"
  }
 },
 "nbformat": 4,
 "nbformat_minor": 2
}
