{
 "cells": [
  {
   "cell_type": "code",
   "execution_count": 10,
   "metadata": {},
   "outputs": [],
   "source": [
    "import numpy as np\n",
    "from sklearn.model_selection import train_test_split\n",
    "\n",
    "import pandas as pd\n",
    "from sklearn.metrics import accuracy_score\n",
    "from sklearn.neighbors import KNeighborsClassifier\n",
    "path='features.xlsx'  #give path where extracted features are saved"
   ]
  },
  {
   "cell_type": "code",
   "execution_count": 11,
   "metadata": {},
   "outputs": [
    {
     "data": {
      "text/html": [
       "<div>\n",
       "<style scoped>\n",
       "    .dataframe tbody tr th:only-of-type {\n",
       "        vertical-align: middle;\n",
       "    }\n",
       "\n",
       "    .dataframe tbody tr th {\n",
       "        vertical-align: top;\n",
       "    }\n",
       "\n",
       "    .dataframe thead th {\n",
       "        text-align: right;\n",
       "    }\n",
       "</style>\n",
       "<table border=\"1\" class=\"dataframe\">\n",
       "  <thead>\n",
       "    <tr style=\"text-align: right;\">\n",
       "      <th></th>\n",
       "      <th>0</th>\n",
       "      <th>1</th>\n",
       "      <th>2</th>\n",
       "      <th>3</th>\n",
       "      <th>4</th>\n",
       "      <th>5</th>\n",
       "      <th>6</th>\n",
       "    </tr>\n",
       "  </thead>\n",
       "  <tbody>\n",
       "    <tr>\n",
       "      <th>0</th>\n",
       "      <td>NaN</td>\n",
       "      <td>contrast</td>\n",
       "      <td>dissimilarity</td>\n",
       "      <td>homogeneity</td>\n",
       "      <td>ASM</td>\n",
       "      <td>energy</td>\n",
       "      <td>Label</td>\n",
       "    </tr>\n",
       "    <tr>\n",
       "      <th>1</th>\n",
       "      <td>0.0</td>\n",
       "      <td>12769357</td>\n",
       "      <td>562393</td>\n",
       "      <td>2747.88</td>\n",
       "      <td>312782</td>\n",
       "      <td>559.269</td>\n",
       "      <td>0</td>\n",
       "    </tr>\n",
       "    <tr>\n",
       "      <th>2</th>\n",
       "      <td>1.0</td>\n",
       "      <td>9580203</td>\n",
       "      <td>482361</td>\n",
       "      <td>3308</td>\n",
       "      <td>289038</td>\n",
       "      <td>537.623</td>\n",
       "      <td>0</td>\n",
       "    </tr>\n",
       "    <tr>\n",
       "      <th>3</th>\n",
       "      <td>2.0</td>\n",
       "      <td>10928946</td>\n",
       "      <td>517098</td>\n",
       "      <td>3084.55</td>\n",
       "      <td>337650</td>\n",
       "      <td>581.077</td>\n",
       "      <td>0</td>\n",
       "    </tr>\n",
       "    <tr>\n",
       "      <th>4</th>\n",
       "      <td>3.0</td>\n",
       "      <td>12465011</td>\n",
       "      <td>556457</td>\n",
       "      <td>2776.65</td>\n",
       "      <td>372854</td>\n",
       "      <td>610.618</td>\n",
       "      <td>0</td>\n",
       "    </tr>\n",
       "  </tbody>\n",
       "</table>\n",
       "</div>"
      ],
      "text/plain": [
       "     0         1              2            3       4        5      6\n",
       "0  NaN  contrast  dissimilarity  homogeneity     ASM   energy  Label\n",
       "1  0.0  12769357         562393      2747.88  312782  559.269      0\n",
       "2  1.0   9580203         482361         3308  289038  537.623      0\n",
       "3  2.0  10928946         517098      3084.55  337650  581.077      0\n",
       "4  3.0  12465011         556457      2776.65  372854  610.618      0"
      ]
     },
     "execution_count": 11,
     "metadata": {},
     "output_type": "execute_result"
    }
   ],
   "source": [
    "abc=pd.read_excel(path,header=None)\n",
    "abc.head()"
   ]
  },
  {
   "cell_type": "code",
   "execution_count": 12,
   "metadata": {},
   "outputs": [
    {
     "name": "stderr",
     "output_type": "stream",
     "text": [
      "C:\\Users\\thaqu\\Anaconda3\\lib\\site-packages\\ipykernel_launcher.py:1: FutureWarning: Method .as_matrix will be removed in a future version. Use .values instead.\n",
      "  \"\"\"Entry point for launching an IPython kernel.\n"
     ]
    }
   ],
   "source": [
    "X=np.array((abc.as_matrix())[1:,1:])\n",
    "Y=X[:,5]\n",
    "X=X[:,0:5]\n",
    "X_train, X_test, y_train, y_test = train_test_split(X,Y,test_size=0.2,random_state=10)\n",
    "y_train = y_train.astype('int')\n",
    "y_test = y_test.astype('int')"
   ]
  },
  {
   "cell_type": "code",
   "execution_count": null,
   "metadata": {},
   "outputs": [],
   "source": []
  },
  {
   "cell_type": "code",
   "execution_count": 13,
   "metadata": {},
   "outputs": [],
   "source": [
    "import pandas as pd\n",
    "import numpy as np\n",
    "from sklearn.svm import SVC\n",
    "from sklearn.preprocessing import label_binarize\n",
    "from sklearn.preprocessing import MinMaxScaler\n",
    "from sklearn.utils.class_weight import compute_class_weight\n",
    "from sklearn.model_selection import GridSearchCV, cross_val_score\n",
    "from sklearn.metrics import classification_report,accuracy_score,confusion_matrix\n",
    "from sklearn.decomposition import PCA"
   ]
  },
  {
   "cell_type": "code",
   "execution_count": 14,
   "metadata": {},
   "outputs": [],
   "source": [
    "scaler=MinMaxScaler()\n",
    "X_train=pd.DataFrame(scaler.fit_transform(X_train))"
   ]
  },
  {
   "cell_type": "code",
   "execution_count": 15,
   "metadata": {},
   "outputs": [],
   "source": [
    "X_test=pd.DataFrame(scaler.fit_transform(X_test))"
   ]
  },
  {
   "cell_type": "code",
   "execution_count": 16,
   "metadata": {},
   "outputs": [],
   "source": [
    "def search_for_parameters(estimator,X_data,y_data,grid_parameters,scoring=\"accuracy\",cv=3):\n",
    "    classes=[0., 1., 2., 3., 4., 5.]\n",
    "    \n",
    "    ##Doing grid search to find the optimal valuess....\n",
    "    grid_clf=GridSearchCV(estimator=estimator,scoring=scoring,param_grid=grid_parameters,iid=False,cv=cv,n_jobs=-1)\n",
    "    \n",
    "    grid_clf.fit(X_data,y_data)\n",
    "    print(\"The best parameters are: \",grid_clf.best_params_)\n",
    "    return grid_clf.best_params_"
   ]
  },
  {
   "cell_type": "code",
   "execution_count": 17,
   "metadata": {},
   "outputs": [],
   "source": [
    "svm_clf=SVC(class_weight='balanced')"
   ]
  },
  {
   "cell_type": "code",
   "execution_count": 18,
   "metadata": {},
   "outputs": [
    {
     "name": "stdout",
     "output_type": "stream",
     "text": [
      "The best parameters are:  {'C': 8, 'degree': 3, 'gamma': 'scale', 'kernel': 'rbf'}\n"
     ]
    },
    {
     "data": {
      "text/plain": [
       "SVC(C=8, cache_size=200, class_weight='balanced', coef0=0.0,\n",
       "    decision_function_shape='ovr', degree=3, gamma='scale', kernel='rbf',\n",
       "    max_iter=-1, probability=False, random_state=None, shrinking=True,\n",
       "    tol=0.001, verbose=False)"
      ]
     },
     "execution_count": 18,
     "metadata": {},
     "output_type": "execute_result"
    }
   ],
   "source": [
    "svm_params_list={'C':[1,2,4,8],'kernel':['poly','rbf','sigmoid'],'degree':[3,4,5,6],'gamma':['auto','scale']}\n",
    "svm_parameters=search_for_parameters(estimator=svm_clf,X_data=X_train,y_data=y_train,grid_parameters=svm_params_list)\n",
    "\n",
    "svm_clf.set_params(**svm_parameters)\n",
    "svm_clf.fit(X_train,y_train)"
   ]
  },
  {
   "cell_type": "code",
   "execution_count": 19,
   "metadata": {},
   "outputs": [
    {
     "name": "stdout",
     "output_type": "stream",
     "text": [
      "Model Scoring Evaluation Results\n",
      "THe mean score and the confidence interval of the scores estimate are: \n",
      "Accuracy: 0.83 (+/- 0.01)\n"
     ]
    }
   ],
   "source": [
    "def cross_validate(estimator,X_data,y_data,scoring='accuracy',cv=3,Z=2):\n",
    "    classes=[0., 1., 2., 3., 4., 5.]\n",
    "    \n",
    "    ##Excuting CrossValidation...\n",
    "    scores=cross_val_score(estimator=estimator,X=X_data,y=y_data,cv=cv,scoring=scoring)\n",
    "    \n",
    "    print(\"Model Scoring Evaluation Results\")\n",
    "    print(\"THe mean score and the confidence interval of the scores estimate are: \")\n",
    "    print(\"Accuracy: %0.2f (+/- %0.2f)\" % (scores.mean(),scores.std()*Z))\n",
    "\n",
    "cross_validate(estimator=svm_clf,X_data=X_train,y_data=y_train,cv=5)"
   ]
  },
  {
   "cell_type": "code",
   "execution_count": 20,
   "metadata": {},
   "outputs": [],
   "source": [
    "##Prediction on Test..\n"
   ]
  },
  {
   "cell_type": "code",
   "execution_count": 21,
   "metadata": {},
   "outputs": [
    {
     "name": "stdout",
     "output_type": "stream",
     "text": [
      "Accuracy:  0.85\n",
      "##################################################\n",
      "\n",
      "Classification Report: \n",
      "\n",
      "              precision    recall  f1-score   support\n",
      "\n",
      "           0       0.84      0.98      0.90        57\n",
      "           1       0.67      0.92      0.78        53\n",
      "           2       1.00      0.84      0.91        68\n",
      "           3       0.79      0.68      0.73        62\n",
      "           4       0.90      1.00      0.95        53\n",
      "           5       0.96      0.73      0.83        67\n",
      "\n",
      "    accuracy                           0.85       360\n",
      "   macro avg       0.86      0.86      0.85       360\n",
      "weighted avg       0.87      0.85      0.85       360\n",
      "\n"
     ]
    }
   ],
   "source": [
    "y_true,y_pred=y_test,svm_clf.predict(X_test)\n",
    "\n",
    "print(\"Accuracy: \",accuracy_score(y_test,y_pred))\n",
    "print(\"#\"*50)\n",
    "\n",
    "print()\n",
    "\n",
    "print(\"Classification Report: \")\n",
    "print()\n",
    "print(classification_report(y_true,y_pred))"
   ]
  },
  {
   "cell_type": "code",
   "execution_count": 22,
   "metadata": {},
   "outputs": [],
   "source": [
    "#Confusion Matrix..\n",
    "\n"
   ]
  },
  {
   "cell_type": "code",
   "execution_count": 23,
   "metadata": {},
   "outputs": [
    {
     "name": "stdout",
     "output_type": "stream",
     "text": [
      "[[56  0  0  1  0  0]\n",
      " [ 0 49  0  4  0  0]\n",
      " [ 6  0 57  5  0  0]\n",
      " [ 5  7  0 42  6  2]\n",
      " [ 0  0  0  0 53  0]\n",
      " [ 0 17  0  1  0 49]]\n"
     ]
    }
   ],
   "source": [
    "cm=confusion_matrix(y_true,y_pred)\n",
    "print(cm)"
   ]
  },
  {
   "cell_type": "code",
   "execution_count": 24,
   "metadata": {},
   "outputs": [
    {
     "data": {
      "text/plain": [
       "Text(0.5, 257.44, 'Predicted label')"
      ]
     },
     "execution_count": 24,
     "metadata": {},
     "output_type": "execute_result"
    },
    {
     "data": {
      "image/png": "[encoded data removed]",
      "text/plain": [
       "<Figure size 432x288 with 2 Axes>"
      ]
     },
     "metadata": {
      "needs_background": "light"
     },
     "output_type": "display_data"
    }
   ],
   "source": [
    "import numpy as np\n",
    "import pandas as pd\n",
    "import matplotlib.pyplot as plt\n",
    "import seaborn as sns\n",
    "class_names=[0,1,2,3,4,5]\n",
    "fig, ax = plt.subplots()\n",
    "tick_marks = np.arange(len(class_names))\n",
    "plt.xticks(tick_marks, class_names)\n",
    "plt.yticks(tick_marks, class_names)\n",
    "sns.heatmap(pd.DataFrame(cm), annot=True, cmap=\"coolwarm\" ,fmt='g')\n",
    "ax.xaxis.set_label_position(\"top\")\n",
    "plt.tight_layout()\n",
    "plt.title('Confusion matrix', y=1.1)\n",
    "plt.ylabel('Actual label')\n",
    "plt.xlabel('Predicted label')"
   ]
  },
  {
   "cell_type": "code",
   "execution_count": null,
   "metadata": {},
   "outputs": [],
   "source": []
  }
 ],
 "metadata": {
  "kernelspec": {
   "display_name": "Python 3",
   "language": "python",
   "name": "python3"
  },
  "language_info": {
   "codemirror_mode": {
    "name": "ipython",
    "version": 3
   },
   "file_extension": ".py",
   "mimetype": "text/x-python",
   "name": "python",
   "nbconvert_exporter": "python",
   "pygments_lexer": "ipython3",
   "version": "3.7.3"
  }
 },
 "nbformat": 4,
 "nbformat_minor": 2
}
